{
    "cells": [
        {
            "cell_type": "markdown",
            "metadata": {
                "vscode": {
                    "languageId": "plaintext"
                }
            },
            "source": [
                "# Getting Started with JobShopLab \n",
                "\n",
                "\n",
                "The **JobShopLab** is a Framework for solving real world JobShopScheduling scenarios using Reinforement Learning.\n",
                "\n",
                "\n",
                "This Getting Started Guide provides some Examples and Explanations on how to use the Framework\n",
                "\n",
                "\n",
                "## Table of Contents\n",
                "\n",
                "- [Example of solving a ft06 instance with a random policy](#example)\n",
                "- [Design Choices](#design_choices)\n",
                "- [Configuring the Framework](#configuring-the-framework)\n",
                "    - [Config File](#config-file)\n",
                "    - [Dependency Injection](#dependency-injection)\n",
                "- [Customizing](#customing)\n",
                "- [Defining a Problem](#defining-a-problem)\n",
                "    - [Spec Files](#spec-files)\n",
                "    - [The Compiler](#the-compiler)\n",
                "    - [DSL](#dsl)\n",
                "    - [DSL as a string](#dsl-as-a-string)\n",
                "- [Visualization](#visualization)\n",
                "- [Defining Agents and Solving the Environment](#defining-agents-and-solving-the-environment)\n",
                "\n"
            ]
        },
        {
            "cell_type": "code",
            "execution_count": 2,
            "metadata": {},
            "outputs": [
                {
                    "name": "stdout",
                    "output_type": "stream",
                    "text": [
                        "Already in the desired directory: c:\\Users\\hojo724\\Documents\\_git\\_proto_lab\\_jobshoplab_github\\jobshoplab\n"
                    ]
                }
            ],
            "source": [
                "from jupyter_utils import change_to_jobshoplab, show_mermaid\n",
                "change_to_jobshoplab()"
            ]
        },
        {
            "cell_type": "markdown",
            "metadata": {},
            "source": [
                "**Example** of solving a ft06 instance with a random policy <a class=\"anchor\" id=\"example\"></a>"
            ]
        },
        {
            "cell_type": "code",
            "execution_count": 3,
            "metadata": {},
            "outputs": [
                {
                    "name": "stdout",
                    "output_type": "stream",
                    "text": [
                        "2025-03-05 14:21:55,999 - <jobshoplab.env.env.DependencyBuilder object at 0x0000021F200C8BC0> - WARNING - No binary_job_action_factory defined in config\n",
                        "Dash app running on http://127.0.0.1:8050/\n"
                    ]
                }
            ],
            "source": [
                "# Solve a academic ft06 instance with a random policy\n",
                "\n",
                "from jobshoplab import JobShopLabEnv, load_config\n",
                "from pathlib import Path\n",
                "\n",
                "config = load_config(config_path = Path(\"./data/config/getting_started_config.yaml\"))\n",
                "env = JobShopLabEnv(config=config)\n",
                "done = False\n",
                "while not done:\n",
                "    action = env.action_space.sample()\n",
                "    obs, reward, truncated,terminated, info = env.step(action)\n",
                "    done = truncated or terminated\n",
                "env.render()"
            ]
        },
        {
            "cell_type": "markdown",
            "metadata": {
                "vscode": {
                    "languageId": "plaintext"
                }
            },
            "source": [
                "<div id='design_choices'/>\n",
                "    \n",
                "# 🔥 Design Choices \n",
                "\n",
                "![Design Choices](../docs/FrameworkOverview.svg)\n",
                "\n",
                "\n",
                "> JobShopLab is designed to be fully **extensible** and **customizable**.\n",
                "\n",
                "At its core sits a **state machine**, which is implemented in a **functional programming style**.  \n",
                "The state machine takes inputs and delivers outputs via an **immutable DataTypeObject (Interface).**  \n",
                "\n",
                "To **address** the need for different **time mechanisms**, observation spaces, action spaces, etc.,  \n",
                "there is a **software layer** called **Middleware**. The Middleware sits between the **Gym environment** and the **state machine**,  \n",
                "\"translating\" the Gym interface to the state machine interface.  \n",
                "\n",
                "**Observation, reward, and action factories** are injected into the Middleware to make **customization** possible.  \n",
                "The interfaces to these factories are represented by **data type objects (Dataclasses).**  \n",
                "\n",
                "### Rendering  \n",
                "\n",
                "Rendering is done via a **dashboard with Dash**.  \n",
                "The dashboard shows a **central Gantt chart** and a **table with all schedules**.  \n",
                "Dashboards can be shown **inline in a Jupyter Notebook** or **via the browser**.\n",
                "\n",
                "There are rendering utilities for debugging also.\n",
                "\n",
                "A 3D Simulation webapp can be accessed via the browser also \n",
                "\n",
                "### Configuration Management  \n",
                "\n",
                "A critical part of keeping a framework like **JobShopLab** maintainable and results reproducible  \n",
                "is a **proper configuration management** system.  \n",
                "\n",
                "There are **two types of configurations** to consider:  \n",
                "\n",
                "#### 1. Framework Config  \n",
                "A **YAML file** containing config parameters to **control** the behavior of the framework.  \n",
                "\n",
                "Examples:  \n",
                "- Setting the **observation space**  \n",
                "- Setting **render modes**  \n",
                "- Controlling **truncation behavior**  \n",
                "\n",
                "#### 2. Problem Instance Config  \n",
                "A **DSL file** (Domain Specific Language in YAML syntax) defining the **problem to solve**.  \n",
                "\n",
                "Examples:  \n",
                "- **Setting machine times** and **operation sequences**  \n",
                "- **Defining buffer settings**  \n",
                "- **Setting setup times** for machines  \n",
                "- Etc.\n"
            ]
        },
        {
            "cell_type": "markdown",
            "metadata": {
                "vscode": {
                    "languageId": "plaintext"
                }
            },
            "source": [
                "## ⚙️ Configuring the Framework\n",
                "\n",
                "The framework can be configured in two ways:\n",
                "\n",
                "- Via a [config.yaml](#config-file) file\n",
                "- Via [dependency injection](#dependency-injection)\n",
                "\n",
                "A config file is always required, but it can be **overwritten** via dependency injection.  \n",
                "In order to quickly test a new component, dependency injection can be quite handy.  \n",
                "However, the usage of **config objects** is the recommended way of configuring the framework.\n"
            ]
        },
        {
            "cell_type": "markdown",
            "metadata": {
                "vscode": {
                    "languageId": "plaintext"
                }
            },
            "source": [
                "## 📃 Config File\n",
                "\n",
                "Framework Configs are YAML syntax.\n",
                "The YAML gets parsed dynamically into a Python dataclass object.\n",
                "This allows:\n",
                " - Dot notation attribute access\n",
                " - Autocompletion\n",
                " - Type safety and validation\n",
                "\n",
                "<details>\n",
                "<summary>Example configuration file for JobShopLab</summary>\n",
                "\n",
                "```yaml\n",
                "# Example configuration file for JobShopLab\n",
                "\n",
                "title: \"Example Environment\"\n",
                "default_loglevel: \"warning\" # JobShopLab uses the logging module with a Logger obj for Verbosity. Set a default loglevel here\n",
                "\n",
                "\n",
                "# Define all Dependencies for the environment here.. want to use a different observation? Simply change the ActionFactory name\n",
                "env: \n",
                "    loglevel: \"warning\"\n",
                "    observation_factory: \"BinaryActionObservationFactory\"\n",
                "    reward_factory: \"BinaryActionJsspReward\"\n",
                "    interpreter: \"BinaryJobActionInterpreter\"\n",
                "    render_backend: \"render_in_dashboard\"\n",
                "    middleware: \"EventBasedBinaryActionMiddleware\"\n",
                "    max_time_fct: 2\n",
                "    max_action_fct: 3\n",
                "\n",
                "# For every Software Component there is a designated field \n",
                "compiler:\n",
                "    loglevel: \"warning\"\n",
                "    repo: \"SpecRepository\" # set to \"YamlRepository\" in order to use custom Problem Instances\n",
                "    validator: \"DummyValidator\"\n",
                "    manipulators: # want to randomize machine times? Set one or multiple Manipulators \n",
                "        - \"DummyManipulator\"\n",
                "    yaml_repository:\n",
                "        dir: \"data/config/instance_proto_lab.yaml\" # yaml instance file to read\n",
                "    spec_repository:\n",
                "        dir: \"data/jssp_instances/ft06\" # academic spec file to read\n",
                "state_machine:\n",
                "    loglevel: \"warning\"\n",
                "\n",
                "middleware:\n",
                "    event_based_binary_action_middleware:\n",
                "        loglevel: \"warning\"\n",
                "        truncation_joker: 5 # \n",
                "        truncation_active: False\n",
                "\n",
                "interpreter:\n",
                "    binary_job_action_interpreter:\n",
                "        loglevel: \"warning\"\n",
                "    # want to add settings for a new action_interpreter (change the action space)\n",
                "    # set a new field here with name of the class as lowercase \n",
                "\n",
                "observation_factory:\n",
                "    binary_action_observation_factory:\n",
                "        loglevel: \"warning\"\n",
                "    \n",
                "    \n",
                "\n",
                "reward_factory:\n",
                "    binary_action_jssp_reward:\n",
                "        loglevel: \"warning\"\n",
                "        sparse_bias: 1 # settings are passed as kwargs to the constructor of the Class\n",
                "        dense_bias: 0.001\n",
                "        truncation_bias: -1\n",
                "\n",
                "render_backend:\n",
                "    render_in_dashboard:\n",
                "        loglevel: \"warning\"\n",
                "        port: 8050\n",
                "        debug: False\n",
                "    simulation:\n",
                "        json_dump_dir: \"data/tmp/simulation_interface.json\"\n",
                "        port: 8051\n",
                "        loglevel: \"warning\"\n",
                "        bind_all: False\n",
                "```"
            ]
        },
        {
            "cell_type": "code",
            "execution_count": 4,
            "metadata": {},
            "outputs": [
                {
                    "name": "stdout",
                    "output_type": "stream",
                    "text": [
                        "Dashboard Port: 8050\n",
                        "Error: cannot assign to field 'port'\n",
                        "2025-03-05 14:21:58,223 - <jobshoplab.env.env.DependencyBuilder object at 0x0000021F204CD2E0> - WARNING - No binary_job_action_factory defined in config\n"
                    ]
                }
            ],
            "source": [
                "# load a config file\n",
                "config = load_config(config_path=Path(\"./data/config/getting_started_config.yaml\"))\n",
                "\n",
                "# config is a object (immutable dataclass) atributtes can be accessed with dot notation\n",
                "# a stub file (.pyi) is automaticly created when the config is loaded to ensure autocompletion\n",
                "print(f\"Dashboard Port: {config.render_backend.render_in_dashboard.port}\") \n",
                "\n",
                "# config is immutable to prevent accidental changes and enforce consistency\n",
                "try:\n",
                "    config.render_backend.render_in_dashboard.port = 1000\n",
                "except AttributeError as e:\n",
                "    print(f\"Error: {e}\")\n",
                "\n",
                "# create an environment with the loaded config\n",
                "env = JobShopLabEnv(config=config)"
            ]
        },
        {
            "cell_type": "markdown",
            "metadata": {
                "vscode": {
                    "languageId": "plaintext"
                }
            },
            "source": [
                "## ⏬ Dependency Injection\n",
                "\n",
                "The environment allows passing dependencies directly as constructor arguments.  \n",
                "The passed instances get constructed inside the environment.  \n",
                "Additional arguments, which are not included in the `config.yaml`, can be passed via partial application.\n",
                "\n",
                "This allows:\n",
                " - dynamic instance creation (useful for Hyperparameter Optimizations)\n",
                " - quick implementation of experiments\n",
                " - customizability"
            ]
        },
        {
            "cell_type": "code",
            "execution_count": 5,
            "metadata": {},
            "outputs": [
                {
                    "name": "stdout",
                    "output_type": "stream",
                    "text": [
                        "2025-03-05 14:21:58,341 - <jobshoplab.env.env.DependencyBuilder object at 0x0000021F203686E0> - WARNING - No binary_job_action_factory defined in config\n"
                    ]
                }
            ],
            "source": [
                "from jobshoplab.env.factories.observations import DummyObservationFactory\n",
                "from functools import partial\n",
                "config = load_config(config_path=Path(\"./data/config/getting_started_config.yaml\"))\n",
                "\n",
                "observation_factory = DummyObservationFactory # instead of using the observation factory from the config, \n",
                "# we will use a dummy observation factory that returns a random observation\n",
                "\n",
                "observation_factory = partial(DummyObservationFactory, test_var=\"test_var\") # we can pass additional arguments to the observation factory using partial application\n",
                "\n",
                "env = JobShopLabEnv(config=config,observation_factory=observation_factory)\n",
                "assert isinstance(env.state_simulator.observation_factory, DummyObservationFactory) # check that the observation factory is the one we passed\n",
                "assert env.state_simulator.observation_factory.test_var == \"test_var\" # check that the argument was passed correctly"
            ]
        },
        {
            "cell_type": "markdown",
            "metadata": {
                "vscode": {
                    "languageId": "plaintext"
                }
            },
            "source": [
                "## ✍️ Customing\n",
                "\n",
                "Want to introduce a new Reward System?<br>\n",
                "The Framework provides BaseClasses for every factory, allowing easy customisations<br>\n",
                "\n",
                "> Same as for the Reward System applies to the ObservationFactory and the ActionInterpreter.<br>\n",
                "AbstractBaseClasses are beeing used to provide a interface"
            ]
        },
        {
            "cell_type": "code",
            "execution_count": 6,
            "metadata": {},
            "outputs": [],
            "source": [
                "from jobshoplab.env.factories.rewards import RewardFactory\n",
                "from jobshoplab.types import StateMachineResult\n",
                "\n",
                "\n",
                "class CustomRewardFactory(RewardFactory): # inherit from the abstract base class for the desired factory\n",
                "    # note: every ActionFactory takes 3 default arguments: loglevel, config and instance, additional arguments can be passed to the constructor\n",
                "    def __init__(\n",
                "        self, loglevel, config, instance, bias_a, bias_b, *args, **kwargs\n",
                "    ):  # add args and kwargs to the constructor as placeholders\n",
                "        self.test_var = super().__init__(\n",
                "            loglevel, config, instance\n",
                "        )  # call the parent constructor and pass the loglevel, config and instance\n",
                "        self.bias_a, self.bias_b = bias_a, bias_b\n",
                "\n",
                "    # the make method is called to create a reward (see the abstract base class RewardFactory)\n",
                "    def make(self, state_result: StateMachineResult, terminated: bool, truncated: bool) -> float:\n",
                "        if not terminated or truncated:\n",
                "            return self.bias_a\n",
                "        else:  # if done return a reward proportional to the time taken (makespan)\n",
                "            return self.bias_b * state_result.state.time.time\n",
                "\n",
                "    def __repr__(self) -> str:  # add a custom representation to the factory\n",
                "        return f\" CustomRewardFactory with bias_a: {self.bias_a}, bias_b: {self.bias_b}\"\n",
                "\n"
            ]
        },
        {
            "cell_type": "code",
            "execution_count": 7,
            "metadata": {},
            "outputs": [
                {
                    "name": "stdout",
                    "output_type": "stream",
                    "text": [
                        "2025-03-05 14:21:58,371 - <jobshoplab.env.env.DependencyBuilder object at 0x0000021F1FFB3C20> - WARNING - No binary_job_action_factory defined in config\n",
                        "Rewards: [0, 0, 0, 0, 0, 0, 0, 0, 0, 0, 0, 0, 0, 0, 0, 0, 0, 0, 0, 0, 0, 0, 0, 0, 0, 0, 0, 0, 0, 0, 0, 0, 0, 0, 0, 0, 0, 0, 0, 0, 0, 0, 0, 0, 0, 0, 0, 0, 0, 0, 0, 0, 0, 0, 0, 0, 0, 0, 0, 0, 0, 0, 0, 0, 0, 0, 0, 0, 0, 0, 0, 90]\n"
                    ]
                }
            ],
            "source": [
                "\n",
                "bias_a, bias_b = 0, 1\n",
                "reward_factory = partial(\n",
                "    CustomRewardFactory, bias_a=bias_a, bias_b=bias_b\n",
                ")  # pass additional arguments to the constructor using partial application\n",
                "env = JobShopLabEnv(config=config, reward_factory=reward_factory)\n",
                "assert env.reward_factory.bias_a == bias_a  # argument was passed correctly and is accessible\n",
                "\n",
                "## lets run a random env and track the rewards\n",
                "done = False\n",
                "rewards = []\n",
                "while not done:\n",
                "    action = env.action_space.sample()\n",
                "    obs, reward, truncated, terminated, info = env.step(action)\n",
                "    done = truncated or terminated\n",
                "    rewards.append(reward)\n",
                "\n",
                "print(f\"Rewards: {rewards}\")"
            ]
        },
        {
            "cell_type": "markdown",
            "metadata": {},
            "source": [
                "# ❓ Defining a Problem"
            ]
        },
        {
            "cell_type": "code",
            "execution_count": 8,
            "metadata": {},
            "outputs": [],
            "source": [
                "# how_mermaid(\"./docs/assets/instance.mmd\")\n"
            ]
        },
        {
            "cell_type": "markdown",
            "metadata": {},
            "source": [
                "\n",
                "There are 3 ways of setting the Instance (Problem to solve)\n",
                "\n",
                "1. **Spec File:** Common Academic JSSP Problem definitions found in Literature \n",
                "2. **DSL (Domain Specific Language File):** YAML file which defines the scheduling problem in a flexible way for real-world scenarios\n",
                "3. **DSL string** (useful in Jupyter or for testing/debugging purposes)\n"
            ]
        },
        {
            "cell_type": "markdown",
            "metadata": {
                "vscode": {
                    "languageId": "plaintext"
                }
            },
            "source": [
                "### 🏫 Spec Files\n",
                "\n",
                "Spec files are academic JSSP Problem instances like they are commonly used in literature.\n",
                "Common instances are included in JobShopLab.\n",
                "In order to use those.\n",
                "Specify the SpecRepository in the config file:\n",
                "```yaml\n",
                "compiler:\n",
                "  loglevel: *default_loglevel\n",
                "  repo: \"SpecRepository\" # use the SpecRepository here\n",
                "  validator: \"DummyValidator\"\n",
                "  manipulators:\n",
                "    - \"DummyManipulator\"\n",
                "  yaml_repository:\n",
                "    dir: \"data/config/dsl.yaml\"\n",
                "  spec_repository:\n",
                "    dir: \"data/jssp_instances/ft06\" # set the dir to the file here\n",
                "```\n",
                "\n",
                "> Alternatively use **dependency injection:**"
            ]
        },
        {
            "cell_type": "code",
            "execution_count": 9,
            "metadata": {},
            "outputs": [
                {
                    "name": "stdout",
                    "output_type": "stream",
                    "text": [
                        "2025-03-05 14:21:58,481 - <jobshoplab.env.env.DependencyBuilder object at 0x0000021F204F15B0> - WARNING - No binary_job_action_factory defined in config\n"
                    ]
                }
            ],
            "source": [
                "from jobshoplab.compiler.repos import SpecRepository\n",
                "from jobshoplab.compiler import Compiler\n",
                "\n",
                "repo = SpecRepository(dir=Path(\"data/jssp_instances/ft06\"),loglevel=\"warning\",config=config)\n",
                "compiler = Compiler(config=config,loglevel=\"warning\",repo=repo)\n",
                "# pass the compiler to the environment\n",
                "env = JobShopLabEnv(config=config, compiler=compiler)"
            ]
        },
        {
            "cell_type": "markdown",
            "metadata": {},
            "source": [
                "### 🔄 The Compiler\n",
                "The Compiler generates 2 Interfaces which are used throughout the rest of JobShopLab:\n",
                "\n",
                "* **Instance** a DataTypeObject holding all information about the Problem \n",
                "* **(init) State** a DataTypeObject representing the current State of the Schedule. The State is Time dependent, hence every state has an attribute Time\n",
                "\n",
                "So the compiler takes input from various sources (extendable via dependency injection) and compiles a generic type interface."
            ]
        },
        {
            "cell_type": "code",
            "execution_count": 10,
            "metadata": {},
            "outputs": [
                {
                    "name": "stdout",
                    "output_type": "stream",
                    "text": [
                        "Instance\n",
                        "Some Machine ID: m-0\n",
                        "Operation Duration: DeterministicDurationConfig(duration=1)\n",
                        "\n",
                        "State:\n",
                        "Time: Time(time=0)\n",
                        "MachineState: MachineStateState.IDLE\n"
                    ]
                }
            ],
            "source": [
                "from jobshoplab.types import InstanceConfig, State\n",
                "# Compiler has a compile method that returns the compiled instance and the initial state\n",
                "instance , init_state = compiler.compile()\n",
                "\n",
                "instance : InstanceConfig\n",
                "init_state : State\n",
                "\n",
                "# Some examples of accsessing artibs \n",
                "\n",
                "\n",
                "# the instance is a dataclass object witch is a representation for the Jssp Problem Interface.\n",
                "# The instance is static and does not change\n",
                "# note: the instance is immutable to prevent accidental changes and enforce consistency\n",
                "print(\"Instance\")\n",
                "print(\"Some Machine ID:\", instance.machines[0].id)\n",
                "print(\"Operation Duration:\", instance.instance.specification[0].operations[0].duration)\n",
                "\n",
                "# the initial state is a dataclass object representing the initial state of all components\n",
                "# the state is dynamic meaning that it changes as the environment is stepped its basicly a snapshot of the environment\n",
                "# the state gets updated by the state simulator (state_machine)\n",
                "# note: the state is immutable to prevent accidental changes and enforce consistency\n",
                "print(\"\\nState:\")\n",
                "print(\"Time:\", init_state.time)\n",
                "print(\"MachineState:\",init_state.machines[0].state)"
            ]
        },
        {
            "cell_type": "markdown",
            "metadata": {
                "vscode": {
                    "languageId": "plaintext"
                }
            },
            "source": [
                "### 📄 DSL\n",
                "\n",
                "The main purpose of JobShopLab is to represent real-world scheduling problems.<br>\n",
                "So there needs to be a way of specifying the Problem itself.\n",
                "This is what the DSL (instance.yaml) is for.\n",
                "\n",
                "**Specify the DslRepository in the config file:**\n",
                "```yaml\n",
                "compiler:\n",
                "  loglevel: *default_loglevel\n",
                "  repo: \"DslRepository\" # <- set the repo here\n",
                "  validator: \"DummyValidator\"\n",
                "  manipulators:\n",
                "    - \"DummyManipulator\"\n",
                "  dsl_repository:\n",
                "    dir: \"data/config/dsl.yaml\" # <- set the filepath here\n",
                "  spec_repository:\n",
                "    dir: \"data/jssp_instances/ft06\"\n",
                "```\n",
                "\n",
                ">  **Alternatively** use dependency injection:"
            ]
        },
        {
            "cell_type": "code",
            "execution_count": 11,
            "metadata": {},
            "outputs": [
                {
                    "name": "stdout",
                    "output_type": "stream",
                    "text": [
                        "2025-03-05 14:21:58,522 - <jobshoplab.env.env.DependencyBuilder object at 0x0000021F20357200> - WARNING - No binary_job_action_factory defined in config\n"
                    ]
                }
            ],
            "source": [
                "from jobshoplab.compiler.repos import DslRepository\n",
                "from jobshoplab.compiler import Compiler\n",
                "\n",
                "repo = DslRepository(dir=Path(\"data/config/getting_started_instance.yaml\"),loglevel=\"warning\",config=config)\n",
                "compiler = Compiler(config=config,loglevel=\"warning\",repo=repo)\n",
                "# pass the compiler to the environment\n",
                "env = JobShopLabEnv(config=config, compiler=compiler)"
            ]
        },
        {
            "cell_type": "markdown",
            "metadata": {
                "vscode": {
                    "languageId": "html"
                }
            },
            "source": [
                "### 🔠DSL as a string\n",
                "\n",
                "An instance can also be defined **inline as a string**.<br>\n",
                "Comes in handy when working in Jupyter notebooks, for debugging and testing purposes"
            ]
        },
        {
            "cell_type": "code",
            "execution_count": 12,
            "metadata": {},
            "outputs": [],
            "source": [
                "dsl_str = \"\"\"\n",
                "title: InstanceConfig\n",
                "\n",
                "# Example of a 6x6 Instance\n",
                "# with AGVs\n",
                "\n",
                "instance_config:\n",
                "  description: \"ft06 with AGVs\" \n",
                "  instance:\n",
                "    description: \"6x6\"\n",
                "    specification: |\n",
                "      (m0,t)|(m1,t)|(m2,t)|(m3,t)|(m4,t)|(m5,t)\n",
                "      j0|(2,1) (0,3) (1,6) (3,7) (5,3) (4,6)\n",
                "      j1|(1,8) (2,5) (4,10) (5,10) (0,10) (3,4)\n",
                "      j2|(2,5) (3,4) (5,8) (0,9) (1,1) (4,7)\n",
                "      j3|(1,5) (0,5) (2,5) (3,3) (4,8) (5,9)\n",
                "      j4|(2,9) (1,3) (4,5) (5,4) (0,3) (3,1)\n",
                "      j5|(1,3) (3,3) (5,9) (0,10) (4,4) (2,1)\n",
                "\n",
                "    transport:\n",
                "      type: \"agv\"\n",
                "      amount: 6\n",
                "  logistics: \n",
                "    specification: |\n",
                "      m-0|m-1|m-2|m-3|m-4|m-5|in-buf|out-buf\n",
                "      m-0|0 21 16 9 37 41 19 19\n",
                "      m-1|21 0 13 15 17 23 8 8\n",
                "      m-2|16 13 0 13 23 28 7 7\n",
                "      m-3|9 15 13 0 31 35 14 14\n",
                "      m-4|37 17 23 31 0 7 25 25\n",
                "      m-5|41 23 28 35 7 0 24 24\n",
                "      in-buf|19 8 7 14 25 24 0 0\n",
                "      out-buf|19 8 7 14 25 24 0 0\n",
                "      \n",
                "init_state:\n",
                "  transport:\n",
                "    - location: \"m-0\"\n",
                "    - location: \"m-1\"\n",
                "    - location: \"m-2\"\n",
                "    - location: \"m-3\"\n",
                "    - location: \"m-4\"\n",
                "    - location: \"m-5\"\n",
                "\"\"\" "
            ]
        },
        {
            "cell_type": "code",
            "execution_count": 13,
            "metadata": {},
            "outputs": [
                {
                    "name": "stdout",
                    "output_type": "stream",
                    "text": [
                        "2025-03-05 14:21:58,550 - <jobshoplab.env.env.DependencyBuilder object at 0x0000021F206589E0> - WARNING - No binary_job_action_factory defined in config\n"
                    ]
                }
            ],
            "source": [
                "from jobshoplab.compiler.repos import DslStrRepository\n",
                "from jobshoplab.compiler import Compiler\n",
                "\n",
                "repo = DslStrRepository(dsl_str=dsl_str,loglevel=\"warning\",config=config) # using the DslStrRepository here and passing the sting as an Argument\n",
                "compiler = Compiler(config=config,loglevel=\"warning\",repo=repo)\n",
                "# pass the compiler to the environment\n",
                "env = JobShopLabEnv(config=config, compiler=compiler)"
            ]
        },
        {
            "cell_type": "markdown",
            "metadata": {},
            "source": [
                "\n",
                "> A **full example** and explanation of the DSL can be found in \"/data/examples/full_instance.yaml\""
            ]
        },
        {
            "cell_type": "markdown",
            "metadata": {
                "vscode": {
                    "languageId": "plaintext"
                }
            },
            "source": [
                "# 🖌️Visualization"
            ]
        },
        {
            "cell_type": "code",
            "execution_count": 14,
            "metadata": {},
            "outputs": [
                {
                    "data": {
                        "text/html": [
                            "\n",
                            "            <style>\n",
                            "            div.output_area {\n",
                            "                max-height: none !important;\n",
                            "                overflow-y: visible !important;\n",
                            "            }\n",
                            "            </style>\n",
                            "            "
                        ],
                        "text/plain": [
                            "<IPython.core.display.HTML object>"
                        ]
                    },
                    "metadata": {},
                    "output_type": "display_data"
                },
                {
                    "data": {
                        "text/html": [
                            "<svg id=\"mermaid-svg\" width=\"100%\" xmlns=\"http://www.w3.org/2000/svg\" class=\"flowchart\" style=\"max-width: 719.3125px;\" viewBox=\"0 0 719.3125 278\" role=\"graphics-document document\" aria-roledescription=\"flowchart-v2\" xmlns:xlink=\"http://www.w3.org/1999/xlink\"><style xmlns=\"http://www.w3.org/1999/xhtml\">@import url(\"https://cdnjs.cloudflare.com/ajax/libs/font-awesome/6.7.2/css/all.min.css\");</style><style>#mermaid-svg{font-family:\"trebuchet ms\",verdana,arial,sans-serif;font-size:16px;fill:#333;}#mermaid-svg .error-icon{fill:#552222;}#mermaid-svg .error-text{fill:#552222;stroke:#552222;}#mermaid-svg .edge-thickness-normal{stroke-width:1px;}#mermaid-svg .edge-thickness-thick{stroke-width:3.5px;}#mermaid-svg .edge-pattern-solid{stroke-dasharray:0;}#mermaid-svg .edge-thickness-invisible{stroke-width:0;fill:none;}#mermaid-svg .edge-pattern-dashed{stroke-dasharray:3;}#mermaid-svg .edge-pattern-dotted{stroke-dasharray:2;}#mermaid-svg .marker{fill:#333333;stroke:#333333;}#mermaid-svg .marker.cross{stroke:#333333;}#mermaid-svg svg{font-family:\"trebuchet ms\",verdana,arial,sans-serif;font-size:16px;}#mermaid-svg p{margin:0;}#mermaid-svg .label{font-family:\"trebuchet ms\",verdana,arial,sans-serif;color:#333;}#mermaid-svg .cluster-label text{fill:#333;}#mermaid-svg .cluster-label span{color:#333;}#mermaid-svg .cluster-label span p{background-color:transparent;}#mermaid-svg .label text,#mermaid-svg span{fill:#333;color:#333;}#mermaid-svg .node rect,#mermaid-svg .node circle,#mermaid-svg .node ellipse,#mermaid-svg .node polygon,#mermaid-svg .node path{fill:#ECECFF;stroke:#9370DB;stroke-width:1px;}#mermaid-svg .rough-node .label text,#mermaid-svg .node .label text,#mermaid-svg .image-shape .label,#mermaid-svg .icon-shape .label{text-anchor:middle;}#mermaid-svg .node .katex path{fill:#000;stroke:#000;stroke-width:1px;}#mermaid-svg .rough-node .label,#mermaid-svg .node .label,#mermaid-svg .image-shape .label,#mermaid-svg .icon-shape .label{text-align:center;}#mermaid-svg .node.clickable{cursor:pointer;}#mermaid-svg .root .anchor path{fill:#333333!important;stroke-width:0;stroke:#333333;}#mermaid-svg .arrowheadPath{fill:#333333;}#mermaid-svg .edgePath .path{stroke:#333333;stroke-width:2.0px;}#mermaid-svg .flowchart-link{stroke:#333333;fill:none;}#mermaid-svg .edgeLabel{background-color:rgba(232,232,232, 0.8);text-align:center;}#mermaid-svg .edgeLabel p{background-color:rgba(232,232,232, 0.8);}#mermaid-svg .edgeLabel rect{opacity:0.5;background-color:rgba(232,232,232, 0.8);fill:rgba(232,232,232, 0.8);}#mermaid-svg .labelBkg{background-color:rgba(232, 232, 232, 0.5);}#mermaid-svg .cluster rect{fill:#ffffde;stroke:#aaaa33;stroke-width:1px;}#mermaid-svg .cluster text{fill:#333;}#mermaid-svg .cluster span{color:#333;}#mermaid-svg div.mermaidTooltip{position:absolute;text-align:center;max-width:200px;padding:2px;font-family:\"trebuchet ms\",verdana,arial,sans-serif;font-size:12px;background:hsl(80, 100%, 96.2745098039%);border:1px solid #aaaa33;border-radius:2px;pointer-events:none;z-index:100;}#mermaid-svg .flowchartTitleText{text-anchor:middle;font-size:18px;fill:#333;}#mermaid-svg rect.text{fill:none;stroke-width:0;}#mermaid-svg .icon-shape,#mermaid-svg .image-shape{background-color:rgba(232,232,232, 0.8);text-align:center;}#mermaid-svg .icon-shape p,#mermaid-svg .image-shape p{background-color:rgba(232,232,232, 0.8);padding:2px;}#mermaid-svg .icon-shape rect,#mermaid-svg .image-shape rect{opacity:0.5;background-color:rgba(232,232,232, 0.8);fill:rgba(232,232,232, 0.8);}#mermaid-svg :root{--mermaid-font-family:\"trebuchet ms\",verdana,arial,sans-serif;}</style><g><marker id=\"mermaid-svg_flowchart-v2-pointEnd\" class=\"marker flowchart-v2\" viewBox=\"0 0 10 10\" refX=\"5\" refY=\"5\" markerUnits=\"userSpaceOnUse\" markerWidth=\"8\" markerHeight=\"8\" orient=\"auto\"><path d=\"M 0 0 L 10 5 L 0 10 z\" class=\"arrowMarkerPath\" style=\"stroke-width: 1; stroke-dasharray: 1, 0;\"/></marker><marker id=\"mermaid-svg_flowchart-v2-pointStart\" class=\"marker flowchart-v2\" viewBox=\"0 0 10 10\" refX=\"4.5\" refY=\"5\" markerUnits=\"userSpaceOnUse\" markerWidth=\"8\" markerHeight=\"8\" orient=\"auto\"><path d=\"M 0 5 L 10 10 L 10 0 z\" class=\"arrowMarkerPath\" style=\"stroke-width: 1; stroke-dasharray: 1, 0;\"/></marker><marker id=\"mermaid-svg_flowchart-v2-circleEnd\" class=\"marker flowchart-v2\" viewBox=\"0 0 10 10\" refX=\"11\" refY=\"5\" markerUnits=\"userSpaceOnUse\" markerWidth=\"11\" markerHeight=\"11\" orient=\"auto\"><circle cx=\"5\" cy=\"5\" r=\"5\" class=\"arrowMarkerPath\" style=\"stroke-width: 1; stroke-dasharray: 1, 0;\"/></marker><marker id=\"mermaid-svg_flowchart-v2-circleStart\" class=\"marker flowchart-v2\" viewBox=\"0 0 10 10\" refX=\"-1\" refY=\"5\" markerUnits=\"userSpaceOnUse\" markerWidth=\"11\" markerHeight=\"11\" orient=\"auto\"><circle cx=\"5\" cy=\"5\" r=\"5\" class=\"arrowMarkerPath\" style=\"stroke-width: 1; stroke-dasharray: 1, 0;\"/></marker><marker id=\"mermaid-svg_flowchart-v2-crossEnd\" class=\"marker cross flowchart-v2\" viewBox=\"0 0 11 11\" refX=\"12\" refY=\"5.2\" markerUnits=\"userSpaceOnUse\" markerWidth=\"11\" markerHeight=\"11\" orient=\"auto\"><path d=\"M 1,1 l 9,9 M 10,1 l -9,9\" class=\"arrowMarkerPath\" style=\"stroke-width: 2; stroke-dasharray: 1, 0;\"/></marker><marker id=\"mermaid-svg_flowchart-v2-crossStart\" class=\"marker cross flowchart-v2\" viewBox=\"0 0 11 11\" refX=\"-1\" refY=\"5.2\" markerUnits=\"userSpaceOnUse\" markerWidth=\"11\" markerHeight=\"11\" orient=\"auto\"><path d=\"M 1,1 l 9,9 M 10,1 l -9,9\" class=\"arrowMarkerPath\" style=\"stroke-width: 2; stroke-dasharray: 1, 0;\"/></marker><g class=\"root\"><g class=\"clusters\"/><g class=\"edgePaths\"><path d=\"M130.25,139L144.94,139C159.63,139,189.01,139,217.807,139.08C246.604,139.159,274.818,139.318,288.925,139.398L303.031,139.477\" id=\"L_ENV_RENDER_0\" class=\" edge-thickness-normal edge-pattern-solid edge-thickness-normal edge-pattern-solid flowchart-link\" style=\"\" marker-end=\"url(#mermaid-svg_flowchart-v2-pointEnd)\"/><path d=\"M407.293,110.45L422.521,97.875C437.748,85.3,468.202,60.15,493.305,47.575C518.409,35,538.161,35,548.038,35L557.914,35\" id=\"L_RENDER_DEBUG_1\" class=\" edge-thickness-normal edge-pattern-solid edge-thickness-normal edge-pattern-solid flowchart-link\" style=\"\" marker-end=\"url(#mermaid-svg_flowchart-v2-pointEnd)\"/><path d=\"M436.344,139.5L446.729,139.417C457.115,139.333,477.885,139.167,499.63,139.083C521.375,139,544.094,139,555.453,139L566.813,139\" id=\"L_RENDER_DASH_2\" class=\" edge-thickness-normal edge-pattern-solid edge-thickness-normal edge-pattern-solid flowchart-link\" style=\"\" marker-end=\"url(#mermaid-svg_flowchart-v2-pointEnd)\"/><path d=\"M407.293,168.55L422.521,180.959C437.748,193.367,468.202,218.183,493.231,230.592C518.26,243,537.865,243,547.667,243L557.469,243\" id=\"L_RENDER_SIMULATION_3\" class=\" edge-thickness-normal edge-pattern-solid edge-thickness-normal edge-pattern-solid flowchart-link\" style=\"\" marker-end=\"url(#mermaid-svg_flowchart-v2-pointEnd)\"/></g><g class=\"edgeLabels\"><g class=\"edgeLabel\" transform=\"translate(218.390625, 139)\"><g class=\"label\" transform=\"translate(-63.140625, -12)\"><foreignObject width=\"126.28125\" height=\"24\"><div xmlns=\"http://www.w3.org/1999/xhtml\" class=\"labelBkg\" style=\"display: table-cell; white-space: nowrap; line-height: 1.5; max-width: 200px; text-align: center;\"><span class=\"edgeLabel \"><p>history &amp; instance</p></span></div></foreignObject></g></g><g class=\"edgeLabel\" transform=\"translate(498.65625, 35)\"><g class=\"label\" transform=\"translate(-22.25, -12)\"><foreignObject width=\"44.5\" height=\"24\"><div xmlns=\"http://www.w3.org/1999/xhtml\" class=\"labelBkg\" style=\"display: table-cell; white-space: nowrap; line-height: 1.5; max-width: 200px; text-align: center;\"><span class=\"edgeLabel \"><p>debug</p></span></div></foreignObject></g></g><g class=\"edgeLabel\" transform=\"translate(498.65625, 139)\"><g class=\"label\" transform=\"translate(-37.8125, -12)\"><foreignObject width=\"75.625\" height=\"24\"><div xmlns=\"http://www.w3.org/1999/xhtml\" class=\"labelBkg\" style=\"display: table-cell; white-space: nowrap; line-height: 1.5; max-width: 200px; text-align: center;\"><span class=\"edgeLabel \"><p>dashboard</p></span></div></foreignObject></g></g><g class=\"edgeLabel\" transform=\"translate(498.65625, 243)\"><g class=\"label\" transform=\"translate(-36.015625, -12)\"><foreignObject width=\"72.03125\" height=\"24\"><div xmlns=\"http://www.w3.org/1999/xhtml\" class=\"labelBkg\" style=\"display: table-cell; white-space: nowrap; line-height: 1.5; max-width: 200px; text-align: center;\"><span class=\"edgeLabel \"><p>simulation</p></span></div></foreignObject></g></g></g><g class=\"nodes\"><g class=\"node default  \" id=\"flowchart-ENV-0\" transform=\"translate(69.125, 139)\"><rect class=\"basic label-container\" style=\"\" x=\"-61.125\" y=\"-27\" width=\"122.25\" height=\"54\"/><g class=\"label\" style=\"\" transform=\"translate(-31.125, -12)\"><rect/><foreignObject width=\"62.25\" height=\"24\"><div xmlns=\"http://www.w3.org/1999/xhtml\" style=\"display: table-cell; white-space: nowrap; line-height: 1.5; max-width: 200px; text-align: center;\"><span class=\"nodeLabel \"><p>gym.Env</p></span></div></foreignObject></g></g><g class=\"node default  \" id=\"flowchart-RENDER-1\" transform=\"translate(371.1875, 139)\"><polygon points=\"64.65625,0 129.3125,-64.65625 64.65625,-129.3125 0,-64.65625\" class=\"label-container\" transform=\"translate(-64.65625,64.65625)\"/><g class=\"label\" style=\"\" transform=\"translate(-37.65625, -12)\"><rect/><foreignObject width=\"75.3125\" height=\"24\"><div xmlns=\"http://www.w3.org/1999/xhtml\" style=\"display: table-cell; white-space: nowrap; line-height: 1.5; max-width: 200px; text-align: center;\"><span class=\"nodeLabel \"><p>env.render</p></span></div></foreignObject></g></g><g class=\"node default  \" id=\"flowchart-DEBUG-2\" transform=\"translate(636.390625, 35)\"><rect class=\"basic label-container\" style=\"\" x=\"-74.4765625\" y=\"-27\" width=\"148.953125\" height=\"54\"/><g class=\"label\" style=\"\" transform=\"translate(-44.4765625, -12)\"><rect/><foreignObject width=\"88.953125\" height=\"24\"><div xmlns=\"http://www.w3.org/1999/xhtml\" style=\"display: table-cell; white-space: nowrap; line-height: 1.5; max-width: 200px; text-align: center;\"><span class=\"nodeLabel \"><p>cli debug util</p></span></div></foreignObject></g></g><g class=\"node default  \" id=\"flowchart-SIMULATION-3\" transform=\"translate(636.390625, 243)\"><rect class=\"basic label-container\" style=\"\" x=\"-74.921875\" y=\"-27\" width=\"149.84375\" height=\"54\"/><g class=\"label\" style=\"\" transform=\"translate(-44.921875, -12)\"><rect/><foreignObject width=\"89.84375\" height=\"24\"><div xmlns=\"http://www.w3.org/1999/xhtml\" style=\"display: table-cell; white-space: nowrap; line-height: 1.5; max-width: 200px; text-align: center;\"><span class=\"nodeLabel \"><p>3d rendering</p></span></div></foreignObject></g></g><g class=\"node default  \" id=\"flowchart-DASH-4\" transform=\"translate(636.390625, 139)\"><rect class=\"basic label-container\" style=\"\" x=\"-65.578125\" y=\"-27\" width=\"131.15625\" height=\"54\"/><g class=\"label\" style=\"\" transform=\"translate(-35.578125, -12)\"><rect/><foreignObject width=\"71.15625\" height=\"24\"><div xmlns=\"http://www.w3.org/1999/xhtml\" style=\"display: table-cell; white-space: nowrap; line-height: 1.5; max-width: 200px; text-align: center;\"><span class=\"nodeLabel \"><p>gant chart</p></span></div></foreignObject></g></g></g></g></g></svg>"
                        ],
                        "text/plain": [
                            "<mermaid.__main__.Mermaid at 0x21f203ca240>"
                        ]
                    },
                    "execution_count": 14,
                    "metadata": {},
                    "output_type": "execute_result"
                }
            ],
            "source": [
                "show_mermaid(\"./docs/assets/rendering.mmd\")"
            ]
        },
        {
            "cell_type": "markdown",
            "metadata": {},
            "source": []
        },
        {
            "cell_type": "markdown",
            "metadata": {},
            "source": [
                "JobShopLab provides 3 main ways of visualizing an env state.\n",
                "1. Gantt Chart Dash WebApp for visualizing the schedules in a Timeline\n",
                "2. CLI table for debugging using the rich lib\n",
                "3. SimulationWebApp using Three.js to render 3D scenes of the Schedules (Coming Soon ;))\n",
                "\n",
                "The default render mode can be set in the config.yaml.\n",
                "```yaml\n",
                "\n",
                "env:\n",
                "  loglevel: *default_loglevel\n",
                "  observation_factory: \"BinaryActionObservationFactory\"\n",
                "  reward_factory: \"BinaryActionJsspReward\"\n",
                "  interpreter: \"BinaryJobActionInterpreter\"\n",
                "  render_backend: \"render_in_dashboard\" # <- set the render backend here\n",
                "  middleware: \"EventBasedBinaryActionMiddleware\"\n",
                "\n",
                "# Available Options and Settings\n",
                "render_backend:\n",
                "  render_in_dashboard:\n",
                "    loglevel: *default_loglevel\n",
                "    port: 8050\n",
                "    debug: false\n",
                "\n",
                "  simulation:\n",
                "    json_dump_dir: \"data/tmp/simulation_interface.json\"\n",
                "    port: 8051\n",
                "    loglevel: *default_loglevel\n",
                "    bind_all: false\n",
                "  \n",
                "  cli_table:\n",
                "    loglevel: *default_loglevel\n",
                "\n",
                "```\n",
                "\n",
                "When calling ***env.render()*** there can be passed a mode flag to select the render backend also\n",
                "\n",
                "Available Flags:\n",
                "- **normal**(default) uses the default backend from the config\n",
                "- **dashboard** Dash Gantt chart\n",
                "- **simulation** 3D three.js simulation\n",
                "- **debug** rich CLI table  "
            ]
        },
        {
            "cell_type": "code",
            "execution_count": 15,
            "metadata": {},
            "outputs": [
                {
                    "name": "stdout",
                    "output_type": "stream",
                    "text": [
                        "2025-03-05 14:21:58,773 - <jobshoplab.env.env.DependencyBuilder object at 0x0000021F203C9580> - WARNING - No binary_job_action_factory defined in config\n",
                        "Dash app running on http://127.0.0.1:8051/\n"
                    ]
                }
            ],
            "source": [
                "repo = DslStrRepository(dsl_str=dsl_str,loglevel=\"warning\",config=config) # using the DslStrRepository here\n",
                "compiler = Compiler(config=config,loglevel=\"warning\",repo=repo)\n",
                "# pass the compiler to the environment\n",
                "env = JobShopLabEnv(config=config, compiler=compiler)\n",
                "\n",
                "# run with random actions\n",
                "done = False\n",
                "while not done:\n",
                "    action = env.action_space.sample()\n",
                "    obs, reward, truncated, terminated, info = env.step(action)\n",
                "    done = truncated or terminated\n",
                "env.render()\n",
                "# env.render(mode=\"simulation\")\n",
                "# env.render(mode=\"debug\")"
            ]
        },
        {
            "cell_type": "markdown",
            "metadata": {},
            "source": [
                "# 🤖 Defining Agents and Solving the Environemnt\n",
                "\n",
                "checkout the jobshopagent repo for more information on how to define agents and solve the environment, using reinforcement learning algorithms"
            ]
        },
        {
            "cell_type": "code",
            "execution_count": 16,
            "metadata": {},
            "outputs": [
                {
                    "name": "stdout",
                    "output_type": "stream",
                    "text": [
                        "2025-03-05 14:22:01,666 - <jobshoplab.env.env.DependencyBuilder object at 0x0000021F1F5E6030> - WARNING - No binary_job_action_factory defined in config\n",
                        "Using cpu device\n",
                        "Wrapping the env with a `Monitor` wrapper\n",
                        "Wrapping the env in a DummyVecEnv.\n",
                        "2025-03-05 14:22:03,349 - <jobshoplab.env.env.DependencyBuilder object at 0x0000021F282A8F50> - WARNING - No binary_job_action_factory defined in config\n",
                        "2025-03-05 14:22:03,506 - <jobshoplab.env.env.DependencyBuilder object at 0x0000021F283B7E30> - WARNING - No binary_job_action_factory defined in config\n",
                        "2025-03-05 14:22:03,663 - <jobshoplab.env.env.DependencyBuilder object at 0x0000021F28362270> - WARNING - No binary_job_action_factory defined in config\n",
                        "2025-03-05 14:22:03,790 - <jobshoplab.env.env.DependencyBuilder object at 0x0000021F283C7F80> - WARNING - No binary_job_action_factory defined in config\n",
                        "2025-03-05 14:22:03,969 - <jobshoplab.env.env.DependencyBuilder object at 0x0000021F2840E5D0> - WARNING - No binary_job_action_factory defined in config\n",
                        "2025-03-05 14:22:04,145 - <jobshoplab.env.env.DependencyBuilder object at 0x0000021F28364B30> - WARNING - No binary_job_action_factory defined in config\n",
                        "2025-03-05 14:22:04,304 - <jobshoplab.env.env.DependencyBuilder object at 0x0000021F283D56D0> - WARNING - No binary_job_action_factory defined in config\n",
                        "2025-03-05 14:22:04,446 - <jobshoplab.env.env.DependencyBuilder object at 0x0000021F28431820> - WARNING - No binary_job_action_factory defined in config\n",
                        "2025-03-05 14:22:04,578 - <jobshoplab.env.env.DependencyBuilder object at 0x0000021F2842CB00> - WARNING - No binary_job_action_factory defined in config\n",
                        "2025-03-05 14:22:04,711 - <jobshoplab.env.env.DependencyBuilder object at 0x0000021F2840C800> - WARNING - No binary_job_action_factory defined in config\n",
                        "2025-03-05 14:22:04,861 - <jobshoplab.env.env.DependencyBuilder object at 0x0000021F283D4110> - WARNING - No binary_job_action_factory defined in config\n",
                        "2025-03-05 14:22:05,012 - <jobshoplab.env.env.DependencyBuilder object at 0x0000021F283D4920> - WARNING - No binary_job_action_factory defined in config\n",
                        "2025-03-05 14:22:05,170 - <jobshoplab.env.env.DependencyBuilder object at 0x0000021F2840DE20> - WARNING - No binary_job_action_factory defined in config\n",
                        "2025-03-05 14:22:05,345 - <jobshoplab.env.env.DependencyBuilder object at 0x0000021F2840F920> - WARNING - No binary_job_action_factory defined in config\n",
                        "2025-03-05 14:22:05,499 - <jobshoplab.env.env.DependencyBuilder object at 0x0000021F2842DD90> - WARNING - No binary_job_action_factory defined in config\n",
                        "2025-03-05 14:22:05,643 - <jobshoplab.env.env.DependencyBuilder object at 0x0000021F283D7BC0> - WARNING - No binary_job_action_factory defined in config\n",
                        "2025-03-05 14:22:05,781 - <jobshoplab.env.env.DependencyBuilder object at 0x0000021F283D52B0> - WARNING - No binary_job_action_factory defined in config\n",
                        "2025-03-05 14:22:05,933 - <jobshoplab.env.env.DependencyBuilder object at 0x0000021F28332600> - WARNING - No binary_job_action_factory defined in config\n",
                        "2025-03-05 14:22:06,079 - <jobshoplab.env.env.DependencyBuilder object at 0x0000021F2842E2D0> - WARNING - No binary_job_action_factory defined in config\n",
                        "2025-03-05 14:22:06,233 - <jobshoplab.env.env.DependencyBuilder object at 0x0000021F283D65D0> - WARNING - No binary_job_action_factory defined in config\n",
                        "2025-03-05 14:22:06,402 - <jobshoplab.env.env.DependencyBuilder object at 0x0000021F2840C4A0> - WARNING - No binary_job_action_factory defined in config\n",
                        "2025-03-05 14:22:06,536 - <jobshoplab.env.env.DependencyBuilder object at 0x0000021F283571D0> - WARNING - No binary_job_action_factory defined in config\n",
                        "2025-03-05 14:22:06,698 - <jobshoplab.env.env.DependencyBuilder object at 0x0000021F2842F350> - WARNING - No binary_job_action_factory defined in config\n",
                        "2025-03-05 14:22:06,842 - <jobshoplab.env.env.DependencyBuilder object at 0x0000021F2842FEF0> - WARNING - No binary_job_action_factory defined in config\n",
                        "2025-03-05 14:22:07,009 - <jobshoplab.env.env.DependencyBuilder object at 0x0000021F283D71D0> - WARNING - No binary_job_action_factory defined in config\n",
                        "2025-03-05 14:22:07,160 - <jobshoplab.env.env.DependencyBuilder object at 0x0000021F2840C8F0> - WARNING - No binary_job_action_factory defined in config\n",
                        "2025-03-05 14:22:07,309 - <jobshoplab.env.env.DependencyBuilder object at 0x0000021F283574D0> - WARNING - No binary_job_action_factory defined in config\n",
                        "2025-03-05 14:22:07,485 - <jobshoplab.env.env.DependencyBuilder object at 0x0000021F284317F0> - WARNING - No binary_job_action_factory defined in config\n",
                        "---------------------------------\n",
                        "| rollout/           |          |\n",
                        "|    ep_len_mean     | 74.6     |\n",
                        "|    ep_rew_mean     | 0.765    |\n",
                        "| time/              |          |\n",
                        "|    fps             | 484      |\n",
                        "|    iterations      | 1        |\n",
                        "|    time_elapsed    | 4        |\n",
                        "|    total_timesteps | 2048     |\n",
                        "---------------------------------\n"
                    ]
                },
                {
                    "data": {
                        "text/plain": [
                            "<stable_baselines3.ppo.ppo.PPO at 0x21f20036840>"
                        ]
                    },
                    "execution_count": 16,
                    "metadata": {},
                    "output_type": "execute_result"
                }
            ],
            "source": [
                "# train an agent using stable baselines3\n",
                "\n",
                "from stable_baselines3 import PPO\n",
                "from jobshoplab import JobShopLabEnv\n",
                "\n",
                "env = JobShopLabEnv(config=config)\n",
                "model = PPO(\"MultiInputPolicy\", env, verbose=1)\n",
                "model.learn(total_timesteps=10)"
            ]
        }
    ],
    "metadata": {
        "kernelspec": {
            "display_name": ".venv",
            "language": "python",
            "name": "python3"
        },
        "language_info": {
            "codemirror_mode": {
                "name": "ipython",
                "version": 3
            },
            "file_extension": ".py",
            "mimetype": "text/x-python",
            "name": "python",
            "nbconvert_exporter": "python",
            "pygments_lexer": "ipython3",
            "version": "3.12.0"
        }
    },
    "nbformat": 4,
    "nbformat_minor": 4
}
